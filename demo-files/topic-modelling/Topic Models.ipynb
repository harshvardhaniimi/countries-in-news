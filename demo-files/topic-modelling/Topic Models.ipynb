{
 "cells": [
  {
   "cell_type": "markdown",
   "metadata": {},
   "source": [
    "# Topic Modelling\n",
    "\n",
    "\n",
    "#### Choice of Number of Topics\n",
    "In this document, I am choosing the number of topics based on minimum coherence score. Apparently, it has to be maximised. However, since the difference is not huge, I'm not changing my codes. Furthermore, $C_v$ changes are not huge, only to a degree of 0.1. I'm currently using more topics than those suggested with the maximum value of $C_v$. Thus, my conclusions would not change. Finally, coherence is not to be used for choosing the number of topics and it is a heuristic anyway.\n",
    "\n",
    "Other ways of choosing the number of topics are:\n",
    "1. Interpretability: Sometimes the max coherence score might give you a very high number of topics, leading to overfitting or topics that are too fine-grained to be useful.\n",
    "2. Business or Research Objectives: The ideal number of topics may also depend on the goal of your analysis. If you’re analyzing a focused dataset, fewer topics might make more sense.\n",
    "\n",
    "#### Dataset\n",
    "Dataset is financial complaints. I've also put it here.\n",
    "\n",
    "Details: https://github.com/harshvardhaniimi/bzan-557/tree/main/guest%20lecture%202"
   ]
  },
  {
   "cell_type": "code",
   "execution_count": 1,
   "metadata": {},
   "outputs": [
    {
     "data": {
      "text/html": [
       "<div>\n",
       "<style scoped>\n",
       "    .dataframe tbody tr th:only-of-type {\n",
       "        vertical-align: middle;\n",
       "    }\n",
       "\n",
       "    .dataframe tbody tr th {\n",
       "        vertical-align: top;\n",
       "    }\n",
       "\n",
       "    .dataframe thead th {\n",
       "        text-align: right;\n",
       "    }\n",
       "</style>\n",
       "<table border=\"1\" class=\"dataframe\">\n",
       "  <thead>\n",
       "    <tr style=\"text-align: right;\">\n",
       "      <th></th>\n",
       "      <th>Unnamed: 0</th>\n",
       "      <th>product</th>\n",
       "      <th>narrative</th>\n",
       "    </tr>\n",
       "  </thead>\n",
       "  <tbody>\n",
       "    <tr>\n",
       "      <th>0</th>\n",
       "      <td>0</td>\n",
       "      <td>credit_card</td>\n",
       "      <td>purchase order day shipping amount receive pro...</td>\n",
       "    </tr>\n",
       "    <tr>\n",
       "      <th>1</th>\n",
       "      <td>1</td>\n",
       "      <td>credit_card</td>\n",
       "      <td>forwarded message date tue subject please inve...</td>\n",
       "    </tr>\n",
       "    <tr>\n",
       "      <th>2</th>\n",
       "      <td>2</td>\n",
       "      <td>retail_banking</td>\n",
       "      <td>forwarded message cc sent friday pdt subject f...</td>\n",
       "    </tr>\n",
       "    <tr>\n",
       "      <th>3</th>\n",
       "      <td>3</td>\n",
       "      <td>credit_reporting</td>\n",
       "      <td>payment history missing credit report speciali...</td>\n",
       "    </tr>\n",
       "    <tr>\n",
       "      <th>4</th>\n",
       "      <td>4</td>\n",
       "      <td>credit_reporting</td>\n",
       "      <td>payment history missing credit report made mis...</td>\n",
       "    </tr>\n",
       "    <tr>\n",
       "      <th>...</th>\n",
       "      <td>...</td>\n",
       "      <td>...</td>\n",
       "      <td>...</td>\n",
       "    </tr>\n",
       "    <tr>\n",
       "      <th>162410</th>\n",
       "      <td>162410</td>\n",
       "      <td>credit_reporting</td>\n",
       "      <td>zales comenity bank closed sold account report...</td>\n",
       "    </tr>\n",
       "    <tr>\n",
       "      <th>162411</th>\n",
       "      <td>162411</td>\n",
       "      <td>retail_banking</td>\n",
       "      <td>zelle suspended account without cause banking ...</td>\n",
       "    </tr>\n",
       "    <tr>\n",
       "      <th>162412</th>\n",
       "      <td>162412</td>\n",
       "      <td>debt_collection</td>\n",
       "      <td>zero contact made debt supposedly resolved fou...</td>\n",
       "    </tr>\n",
       "    <tr>\n",
       "      <th>162413</th>\n",
       "      <td>162413</td>\n",
       "      <td>mortgages_and_loans</td>\n",
       "      <td>zillow home loan nmls nmls actual quote provid...</td>\n",
       "    </tr>\n",
       "    <tr>\n",
       "      <th>162414</th>\n",
       "      <td>162414</td>\n",
       "      <td>debt_collection</td>\n",
       "      <td>zuntafi sent notice willing settle defaulted s...</td>\n",
       "    </tr>\n",
       "  </tbody>\n",
       "</table>\n",
       "<p>162415 rows × 3 columns</p>\n",
       "</div>"
      ],
      "text/plain": [
       "        Unnamed: 0              product  \\\n",
       "0                0          credit_card   \n",
       "1                1          credit_card   \n",
       "2                2       retail_banking   \n",
       "3                3     credit_reporting   \n",
       "4                4     credit_reporting   \n",
       "...            ...                  ...   \n",
       "162410      162410     credit_reporting   \n",
       "162411      162411       retail_banking   \n",
       "162412      162412      debt_collection   \n",
       "162413      162413  mortgages_and_loans   \n",
       "162414      162414      debt_collection   \n",
       "\n",
       "                                                narrative  \n",
       "0       purchase order day shipping amount receive pro...  \n",
       "1       forwarded message date tue subject please inve...  \n",
       "2       forwarded message cc sent friday pdt subject f...  \n",
       "3       payment history missing credit report speciali...  \n",
       "4       payment history missing credit report made mis...  \n",
       "...                                                   ...  \n",
       "162410  zales comenity bank closed sold account report...  \n",
       "162411  zelle suspended account without cause banking ...  \n",
       "162412  zero contact made debt supposedly resolved fou...  \n",
       "162413  zillow home loan nmls nmls actual quote provid...  \n",
       "162414  zuntafi sent notice willing settle defaulted s...  \n",
       "\n",
       "[162415 rows x 3 columns]"
      ]
     },
     "execution_count": 1,
     "metadata": {},
     "output_type": "execute_result"
    }
   ],
   "source": [
    "# Loading Dataset\n",
    "import numpy as np\n",
    "import pandas as pd\n",
    "import imp # python's import helper\n",
    "df = pd.read_csv(\"/Users/harshvardhan/Documents/UTK/Classes/Spring 2022/BZAN 557 671 Text Mining/Project/Complaints/complaints_processed.csv\")\n",
    "df"
   ]
  },
  {
   "cell_type": "code",
   "execution_count": 2,
   "metadata": {},
   "outputs": [
    {
     "data": {
      "text/plain": [
       "Unnamed: 0     int64\n",
       "product       object\n",
       "narrative     object\n",
       "dtype: object"
      ]
     },
     "execution_count": 2,
     "metadata": {},
     "output_type": "execute_result"
    }
   ],
   "source": [
    "df.dtypes"
   ]
  },
  {
   "cell_type": "code",
   "execution_count": 3,
   "metadata": {},
   "outputs": [
    {
     "data": {
      "text/plain": [
       "array(['credit_card', 'retail_banking', 'credit_reporting',\n",
       "       'mortgages_and_loans', 'debt_collection'], dtype=object)"
      ]
     },
     "execution_count": 3,
     "metadata": {},
     "output_type": "execute_result"
    }
   ],
   "source": [
    "df[\"product\"].unique()"
   ]
  },
  {
   "cell_type": "code",
   "execution_count": 4,
   "metadata": {},
   "outputs": [],
   "source": [
    "df[\"product\"] = df[\"product\"].values.astype(\"U\").tolist()\n",
    "df[\"narrative\"] = df[\"narrative\"].values.astype(\"U\").tolist()"
   ]
  },
  {
   "cell_type": "markdown",
   "metadata": {},
   "source": [
    "# Texts for Each Category\n",
    "`'credit_card', 'retail_banking', 'credit_reporting', 'mortgages_and_loans', 'debt_collection'`"
   ]
  },
  {
   "cell_type": "code",
   "execution_count": 6,
   "metadata": {},
   "outputs": [
    {
     "data": {
      "text/plain": [
       "0         purchase order day shipping amount receive pro...\n",
       "1         forwarded message date tue subject please inve...\n",
       "2         forwarded message cc sent friday pdt subject f...\n",
       "3         payment history missing credit report speciali...\n",
       "4         payment history missing credit report made mis...\n",
       "                                ...                        \n",
       "162410    zales comenity bank closed sold account report...\n",
       "162411    zelle suspended account without cause banking ...\n",
       "162412    zero contact made debt supposedly resolved fou...\n",
       "162413    zillow home loan nmls nmls actual quote provid...\n",
       "162414    zuntafi sent notice willing settle defaulted s...\n",
       "Name: narrative, Length: 162415, dtype: object"
      ]
     },
     "execution_count": 6,
     "metadata": {},
     "output_type": "execute_result"
    }
   ],
   "source": [
    "all_texts = df[\"narrative\"]\n",
    "all_texts"
   ]
  },
  {
   "cell_type": "code",
   "execution_count": 7,
   "metadata": {},
   "outputs": [],
   "source": [
    "cc_texts = all_texts[df[\"product\"] == \"credit_card\"].tolist()\n",
    "rb_texts = all_texts[df[\"product\"] == \"retail_banking\"].tolist()\n",
    "cr_texts = all_texts[df[\"product\"] == \"credit_reporting\"].tolist()\n",
    "ml_texts = all_texts[df[\"product\"] == \"mortgages_and_loans\"].tolist()\n",
    "dc_texts = all_texts[df[\"product\"] == \"debt_collection\"].tolist()"
   ]
  },
  {
   "cell_type": "markdown",
   "metadata": {},
   "source": [
    "# Function for Topic Modelling\n",
    "\n",
    "Since I have to run the same set of codes multiple times to obtain the topics, I will write a function that finds the topics for the text list entered."
   ]
  },
  {
   "cell_type": "code",
   "execution_count": 8,
   "metadata": {},
   "outputs": [],
   "source": [
    "import gensim\n",
    "from gensim.corpora.dictionary import Dictionary\n",
    "from gensim.models import LdaModel\n",
    "from gensim.models import CoherenceModel\n",
    "import matplotlib.pyplot as plt"
   ]
  },
  {
   "cell_type": "code",
   "execution_count": 9,
   "metadata": {},
   "outputs": [],
   "source": [
    "def topic_modeller(texts, start = 5, end = 50, step = 5):\n",
    "    train = [i.split() for i in texts]\n",
    "    common_dictionary = Dictionary(train)\n",
    "    common_corpus = [common_dictionary.doc2bow(t) for t in train]\n",
    "    coherence_values = []\n",
    "    model_list = []\n",
    "    for num_topics in range(start, end, step):\n",
    "        model = gensim.models.ldamodel.LdaModel(\n",
    "            corpus=common_corpus, num_topics=num_topics, id2word=common_dictionary\n",
    "        )\n",
    "        model_list.append(model)\n",
    "        coherencemodel = CoherenceModel(\n",
    "            model=model, texts=train, dictionary=common_dictionary, coherence='c_v'\n",
    "        )\n",
    "        coherence_values.append(coherencemodel.get_coherence())\n",
    "    return model_list, coherence_values"
   ]
  },
  {
   "cell_type": "markdown",
   "metadata": {},
   "source": [
    "#### Trying Function on Small Scale"
   ]
  },
  {
   "cell_type": "code",
   "execution_count": 40,
   "metadata": {},
   "outputs": [],
   "source": [
    "ttttt = all_texts[0:10000]"
   ]
  },
  {
   "cell_type": "code",
   "execution_count": 41,
   "metadata": {},
   "outputs": [],
   "source": [
    "# run and save\n",
    "model_list, coherence_values = topic_modeller(ttttt, start = 2, end = 5, step = 1)"
   ]
  },
  {
   "cell_type": "code",
   "execution_count": 44,
   "metadata": {},
   "outputs": [
    {
     "data": {
      "text/plain": [
       "[0.561594323978825, 0.4844133751488154, 0.5993553589014797]"
      ]
     },
     "execution_count": 44,
     "metadata": {},
     "output_type": "execute_result"
    }
   ],
   "source": [
    "coherence_values"
   ]
  },
  {
   "cell_type": "code",
   "execution_count": 45,
   "metadata": {},
   "outputs": [
    {
     "data": {
      "image/png": "[encoded data removed]",
      "text/plain": [
       "<Figure size 432x288 with 1 Axes>"
      ]
     },
     "metadata": {
      "needs_background": "light"
     },
     "output_type": "display_data"
    },
    {
     "name": "stdout",
     "output_type": "stream",
     "text": [
      "Num Topics = 2  is having Coherence Value of 0.5616\n",
      "Num Topics = 3  is having Coherence Value of 0.4844\n",
      "Num Topics = 4  is having Coherence Value of 0.5994\n"
     ]
    }
   ],
   "source": [
    "# make plot\n",
    "import matplotlib.pyplot as plt\n",
    "\n",
    "end=5; start=2; step=1;\n",
    "x = range(start, end, step)\n",
    "plt.plot(x, coherence_values)\n",
    "plt.xlabel(\"Num Topics\")\n",
    "plt.ylabel(\"Coherence score\")\n",
    "plt.legend((\"coherence_values\"), loc='best')\n",
    "plt.show()\n",
    "\n",
    "for m, cv in zip(x, coherence_values):\n",
    "   print(\"Num Topics =\", m, \" is having Coherence Value of\", round(cv, 4))"
   ]
  },
  {
   "cell_type": "code",
   "execution_count": 10,
   "metadata": {},
   "outputs": [],
   "source": [
    "# Function for Coherence Plot\n",
    "def coherence_plot(start, end, step, path):\n",
    "    x = range(start, end, step)\n",
    "    plt.plot(x, coherence_values)\n",
    "    plt.xlabel(\"Number of Topics\")\n",
    "    plt.ylabel(\"Coherence score\")\n",
    "    plt.legend((\"coherence_values\"), loc='best')\n",
    "    plt.savefig(path)\n",
    "    plt.show()\n",
    "\n",
    "    for m, cv in zip(x, coherence_values):\n",
    "        print(\"Num Topics =\", m, \" is having Coherence Value of\", round(cv, 4))"
   ]
  },
  {
   "cell_type": "markdown",
   "metadata": {},
   "source": [
    "The code works! Let's apply it for the first group and interpret the results.\n",
    "\n",
    "# Topics in Credit Card Complaints"
   ]
  },
  {
   "cell_type": "code",
   "execution_count": 49,
   "metadata": {},
   "outputs": [],
   "source": [
    "model_list, coherence_values = topic_modeller(cc_texts, start = 10, end = 50, step = 2)"
   ]
  },
  {
   "cell_type": "code",
   "execution_count": 55,
   "metadata": {},
   "outputs": [
    {
     "data": {
      "image/png": "[encoded data removed]",
      "text/plain": [
       "<Figure size 432x288 with 1 Axes>"
      ]
     },
     "metadata": {
      "needs_background": "light"
     },
     "output_type": "display_data"
    },
    {
     "name": "stdout",
     "output_type": "stream",
     "text": [
      "Num Topics = 10  is having Coherence Value of 0.3546\n",
      "Num Topics = 12  is having Coherence Value of 0.3505\n",
      "Num Topics = 14  is having Coherence Value of 0.3443\n",
      "Num Topics = 16  is having Coherence Value of 0.3478\n",
      "Num Topics = 18  is having Coherence Value of 0.3467\n",
      "Num Topics = 20  is having Coherence Value of 0.3507\n",
      "Num Topics = 22  is having Coherence Value of 0.3701\n",
      "Num Topics = 24  is having Coherence Value of 0.3644\n",
      "Num Topics = 26  is having Coherence Value of 0.36\n",
      "Num Topics = 28  is having Coherence Value of 0.3489\n",
      "Num Topics = 30  is having Coherence Value of 0.3416\n",
      "Num Topics = 32  is having Coherence Value of 0.3632\n",
      "Num Topics = 34  is having Coherence Value of 0.3466\n",
      "Num Topics = 36  is having Coherence Value of 0.3594\n",
      "Num Topics = 38  is having Coherence Value of 0.3624\n",
      "Num Topics = 40  is having Coherence Value of 0.366\n",
      "Num Topics = 42  is having Coherence Value of 0.3786\n",
      "Num Topics = 44  is having Coherence Value of 0.3544\n",
      "Num Topics = 46  is having Coherence Value of 0.3632\n",
      "Num Topics = 48  is having Coherence Value of 0.3559\n"
     ]
    }
   ],
   "source": [
    "coherence_plot(start = 10, end = 50, step = 2, path = \"/Users/harshvardhan/Documents/UTK/Classes/Spring 2022/Text Mining BZAN 557 671/Project/Complaints/Plots/coherence-credit-card.pdf\")"
   ]
  },
  {
   "cell_type": "markdown",
   "metadata": {},
   "source": [
    "The best choice is 42 topics."
   ]
  },
  {
   "cell_type": "code",
   "execution_count": 15,
   "metadata": {},
   "outputs": [],
   "source": [
    "model_list, coherence_values = topic_modeller(cc_texts, start = 30, end = 31, step = 1)"
   ]
  },
  {
   "cell_type": "code",
   "execution_count": 16,
   "metadata": {},
   "outputs": [
    {
     "data": {
      "text/plain": [
       "[<gensim.models.ldamodel.LdaModel at 0x7f804103c610>]"
      ]
     },
     "execution_count": 16,
     "metadata": {},
     "output_type": "execute_result"
    }
   ],
   "source": [
    "model_list"
   ]
  },
  {
   "cell_type": "code",
   "execution_count": 18,
   "metadata": {},
   "outputs": [
    {
     "data": {
      "text/plain": [
       "[(25,\n",
       "  [('fee', 0.09860279),\n",
       "   ('late', 0.05273563),\n",
       "   ('payment', 0.039695494),\n",
       "   ('paid', 0.02149763),\n",
       "   ('due', 0.02070193),\n",
       "   ('pay', 0.020003544),\n",
       "   ('charged', 0.017750286),\n",
       "   ('card', 0.017639559),\n",
       "   ('credit', 0.015677193),\n",
       "   ('bill', 0.014165336)]),\n",
       " (22,\n",
       "  [('card', 0.050779756),\n",
       "   ('credit', 0.027533391),\n",
       "   ('time', 0.01206509),\n",
       "   ('would', 0.011329668),\n",
       "   ('charge', 0.0076464834),\n",
       "   ('called', 0.0069253314),\n",
       "   ('never', 0.006364491),\n",
       "   ('get', 0.0063528554),\n",
       "   ('back', 0.006226389),\n",
       "   ('new', 0.0058062845)]),\n",
       " (26,\n",
       "  [('dispute', 0.034713157),\n",
       "   ('refund', 0.025204845),\n",
       "   ('chase', 0.018039562),\n",
       "   ('merchant', 0.01637681),\n",
       "   ('credit', 0.016164282),\n",
       "   ('received', 0.01542731),\n",
       "   ('charge', 0.01327836),\n",
       "   ('letter', 0.012914498),\n",
       "   ('flight', 0.010110105),\n",
       "   ('back', 0.009336137)]),\n",
       " (14,\n",
       "  [('synchrony', 0.13580094),\n",
       "   ('amazon', 0.04351805),\n",
       "   ('room', 0.025527513),\n",
       "   ('card', 0.015219135),\n",
       "   ('issue', 0.014089429),\n",
       "   ('store', 0.013667659),\n",
       "   ('repair', 0.0118265515),\n",
       "   ('buyer', 0.011247947),\n",
       "   ('damaged', 0.010254093),\n",
       "   ('key', 0.009735048)]),\n",
       " (16,\n",
       "  [('card', 0.06049086),\n",
       "   ('money', 0.030132221),\n",
       "   ('get', 0.019951575),\n",
       "   ('u', 0.016925922),\n",
       "   ('unemployment', 0.015999025),\n",
       "   ('account', 0.011247095),\n",
       "   ('fund', 0.011085476),\n",
       "   ('received', 0.011060641),\n",
       "   ('help', 0.010796694),\n",
       "   ('bank', 0.009667488)]),\n",
       " (19,\n",
       "  [('one', 0.15862699),\n",
       "   ('capital', 0.13559608),\n",
       "   ('card', 0.028261727),\n",
       "   ('credit', 0.023824895),\n",
       "   ('account', 0.017610323),\n",
       "   ('charge', 0.011710506),\n",
       "   ('hotel', 0.006736464),\n",
       "   ('time', 0.0060443254),\n",
       "   ('walmart', 0.0059041367),\n",
       "   ('never', 0.005778088)]),\n",
       " (5,\n",
       "  [('charge', 0.10240406),\n",
       "   ('card', 0.04986836),\n",
       "   ('chase', 0.03493156),\n",
       "   ('fraud', 0.025540795),\n",
       "   ('fraudulent', 0.02141969),\n",
       "   ('account', 0.02120113),\n",
       "   ('credit', 0.018520959),\n",
       "   ('fee', 0.013928675),\n",
       "   ('would', 0.010963973),\n",
       "   ('new', 0.009832108)]),\n",
       " (7,\n",
       "  [('credit', 0.05881567),\n",
       "   ('account', 0.042913053),\n",
       "   ('card', 0.03374133),\n",
       "   ('bank', 0.028488612),\n",
       "   ('closed', 0.013420052),\n",
       "   ('letter', 0.009433941),\n",
       "   ('application', 0.008129005),\n",
       "   ('information', 0.007831268),\n",
       "   ('without', 0.007578005),\n",
       "   ('synchrony', 0.007119235)]),\n",
       " (12,\n",
       "  [('cash', 0.084959105),\n",
       "   ('purchase', 0.06863932),\n",
       "   ('store', 0.04523899),\n",
       "   ('transaction', 0.04499687),\n",
       "   ('atm', 0.032478154),\n",
       "   ('advance', 0.031141905),\n",
       "   ('card', 0.027980192),\n",
       "   ('app', 0.026904713),\n",
       "   ('withdrawal', 0.016255325),\n",
       "   ('made', 0.01448792)]),\n",
       " (8,\n",
       "  [('selling', 0.030220222),\n",
       "   ('holding', 0.029139677),\n",
       "   ('freedom', 0.02783675),\n",
       "   ('source', 0.024435593),\n",
       "   ('loaded', 0.0214312),\n",
       "   ('hostage', 0.017718866),\n",
       "   ('stopping', 0.017298441),\n",
       "   ('sister', 0.017063323),\n",
       "   ('selfie', 0.01607444),\n",
       "   ('upload', 0.015035784)])]"
      ]
     },
     "execution_count": 18,
     "metadata": {},
     "output_type": "execute_result"
    }
   ],
   "source": [
    "cctopics = model_list[0]\n",
    "cctopics.show_topics(formatted=False)"
   ]
  },
  {
   "cell_type": "markdown",
   "metadata": {},
   "source": [
    "# Topics in Retail Baning"
   ]
  },
  {
   "cell_type": "code",
   "execution_count": 11,
   "metadata": {},
   "outputs": [],
   "source": [
    "model_list, coherence_values = topic_modeller(rb_texts, start = 10, end = 50, step = 2)"
   ]
  },
  {
   "cell_type": "code",
   "execution_count": 14,
   "metadata": {},
   "outputs": [
    {
     "data": {
      "image/png": "[encoded data removed]",
      "text/plain": [
       "<Figure size 432x288 with 1 Axes>"
      ]
     },
     "metadata": {
      "needs_background": "light"
     },
     "output_type": "display_data"
    },
    {
     "name": "stdout",
     "output_type": "stream",
     "text": [
      "Num Topics = 10  is having Coherence Value of 0.3472\n",
      "Num Topics = 12  is having Coherence Value of 0.3352\n",
      "Num Topics = 14  is having Coherence Value of 0.338\n",
      "Num Topics = 16  is having Coherence Value of 0.3671\n",
      "Num Topics = 18  is having Coherence Value of 0.3269\n",
      "Num Topics = 20  is having Coherence Value of 0.3474\n",
      "Num Topics = 22  is having Coherence Value of 0.3419\n",
      "Num Topics = 24  is having Coherence Value of 0.3391\n",
      "Num Topics = 26  is having Coherence Value of 0.3489\n",
      "Num Topics = 28  is having Coherence Value of 0.353\n",
      "Num Topics = 30  is having Coherence Value of 0.3545\n",
      "Num Topics = 32  is having Coherence Value of 0.3559\n",
      "Num Topics = 34  is having Coherence Value of 0.3572\n",
      "Num Topics = 36  is having Coherence Value of 0.3432\n",
      "Num Topics = 38  is having Coherence Value of 0.3544\n",
      "Num Topics = 40  is having Coherence Value of 0.3445\n",
      "Num Topics = 42  is having Coherence Value of 0.3492\n",
      "Num Topics = 44  is having Coherence Value of 0.3361\n",
      "Num Topics = 46  is having Coherence Value of 0.3397\n",
      "Num Topics = 48  is having Coherence Value of 0.3556\n"
     ]
    }
   ],
   "source": [
    "coherence_plot(start = 10, end = 50, step = 2, \n",
    "    path = \"/Users/harshvardhan/Documents/UTK/Classes/Spring 2022/Text Mining BZAN 557 671/Project/Complaints/Plots/coherence-retail-banking.pdf\")"
   ]
  },
  {
   "cell_type": "code",
   "execution_count": 19,
   "metadata": {},
   "outputs": [],
   "source": [
    "model_list, coherence_values = topic_modeller(cc_texts, start = 18, end = 19, step = 2)"
   ]
  },
  {
   "cell_type": "code",
   "execution_count": 23,
   "metadata": {},
   "outputs": [
    {
     "data": {
      "text/plain": [
       "[(4,\n",
       "  '0.047*\"chase\" + 0.030*\"card\" + 0.020*\"credit\" + 0.014*\"item\" + 0.012*\"transaction\" + 0.012*\"received\" + 0.012*\"purchase\" + 0.011*\"store\" + 0.010*\"account\" + 0.009*\"synchrony\"'),\n",
       " (6,\n",
       "  '0.073*\"payment\" + 0.039*\"account\" + 0.029*\"credit\" + 0.023*\"late\" + 0.013*\"card\" + 0.013*\"due\" + 0.012*\"made\" + 0.011*\"time\" + 0.011*\"would\" + 0.010*\"bank\"'),\n",
       " (2,\n",
       "  '0.031*\"bank\" + 0.025*\"america\" + 0.020*\"claim\" + 0.017*\"money\" + 0.013*\"card\" + 0.011*\"told\" + 0.010*\"call\" + 0.010*\"back\" + 0.009*\"even\" + 0.009*\"get\"'),\n",
       " (14,\n",
       "  '0.070*\"account\" + 0.049*\"credit\" + 0.026*\"report\" + 0.019*\"reported\" + 0.018*\"company\" + 0.016*\"reporting\" + 0.014*\"information\" + 0.012*\"never\" + 0.011*\"opened\" + 0.011*\"bureau\"'),\n",
       " (16,\n",
       "  '0.038*\"credit\" + 0.032*\"citibank\" + 0.024*\"citi\" + 0.022*\"card\" + 0.021*\"charge\" + 0.016*\"received\" + 0.015*\"account\" + 0.015*\"letter\" + 0.009*\"would\" + 0.008*\"dispute\"'),\n",
       " (11,\n",
       "  '0.155*\"one\" + 0.133*\"capital\" + 0.039*\"credit\" + 0.038*\"card\" + 0.014*\"account\" + 0.006*\"time\" + 0.006*\"received\" + 0.006*\"letter\" + 0.006*\"called\" + 0.006*\"said\"'),\n",
       " (9,\n",
       "  '0.021*\"account\" + 0.017*\"call\" + 0.015*\"card\" + 0.014*\"would\" + 0.014*\"called\" + 0.013*\"time\" + 0.013*\"service\" + 0.011*\"told\" + 0.011*\"customer\" + 0.011*\"said\"'),\n",
       " (7,\n",
       "  '0.100*\"credit\" + 0.049*\"card\" + 0.026*\"account\" + 0.024*\"limit\" + 0.018*\"score\" + 0.017*\"bank\" + 0.014*\"closed\" + 0.009*\"balance\" + 0.008*\"report\" + 0.008*\"year\"'),\n",
       " (17,\n",
       "  '0.042*\"express\" + 0.040*\"american\" + 0.023*\"usaa\" + 0.020*\"credit\" + 0.016*\"bank\" + 0.016*\"consumer\" + 0.015*\"account\" + 0.010*\"financial\" + 0.008*\"card\" + 0.008*\"balance\"'),\n",
       " (3,\n",
       "  '0.079*\"card\" + 0.025*\"call\" + 0.022*\"number\" + 0.022*\"get\" + 0.022*\"time\" + 0.017*\"phone\" + 0.016*\"tried\" + 0.013*\"hour\" + 0.013*\"never\" + 0.011*\"use\"')]"
      ]
     },
     "execution_count": 23,
     "metadata": {},
     "output_type": "execute_result"
    }
   ],
   "source": [
    "rbtopics = model_list[0]\n",
    "rbtopics.show_topics(formatted=True)"
   ]
  },
  {
   "cell_type": "markdown",
   "metadata": {},
   "source": [
    "# Topics in Credit Reporting"
   ]
  },
  {
   "cell_type": "code",
   "execution_count": 11,
   "metadata": {},
   "outputs": [],
   "source": [
    "model_list, coherence_values = topic_modeller(cr_texts, start = 10, end = 50, step = 2)"
   ]
  },
  {
   "cell_type": "code",
   "execution_count": 12,
   "metadata": {},
   "outputs": [
    {
     "data": {
      "image/png": "[encoded data removed]",
      "text/plain": [
       "<Figure size 432x288 with 1 Axes>"
      ]
     },
     "metadata": {
      "needs_background": "light"
     },
     "output_type": "display_data"
    },
    {
     "name": "stdout",
     "output_type": "stream",
     "text": [
      "Num Topics = 10  is having Coherence Value of 0.5254\n",
      "Num Topics = 12  is having Coherence Value of 0.5341\n",
      "Num Topics = 14  is having Coherence Value of 0.52\n",
      "Num Topics = 16  is having Coherence Value of 0.4536\n",
      "Num Topics = 18  is having Coherence Value of 0.478\n",
      "Num Topics = 20  is having Coherence Value of 0.4796\n",
      "Num Topics = 22  is having Coherence Value of 0.4982\n",
      "Num Topics = 24  is having Coherence Value of 0.4884\n",
      "Num Topics = 26  is having Coherence Value of 0.5014\n",
      "Num Topics = 28  is having Coherence Value of 0.4753\n",
      "Num Topics = 30  is having Coherence Value of 0.4452\n",
      "Num Topics = 32  is having Coherence Value of 0.4514\n",
      "Num Topics = 34  is having Coherence Value of 0.4419\n",
      "Num Topics = 36  is having Coherence Value of 0.4283\n",
      "Num Topics = 38  is having Coherence Value of 0.4543\n",
      "Num Topics = 40  is having Coherence Value of 0.4538\n",
      "Num Topics = 42  is having Coherence Value of 0.4454\n",
      "Num Topics = 44  is having Coherence Value of 0.4631\n",
      "Num Topics = 46  is having Coherence Value of 0.4569\n",
      "Num Topics = 48  is having Coherence Value of 0.4436\n"
     ]
    }
   ],
   "source": [
    "coherence_plot(start = 10, end = 50, step = 2, \n",
    "    path = \"/Users/harshvardhan/Documents/UTK/Classes/Spring 2022/BZAN 557 671 Text Mining/Project/Complaints/Plots/coherence-credit-reporting.pdf\")"
   ]
  },
  {
   "cell_type": "code",
   "execution_count": 13,
   "metadata": {},
   "outputs": [],
   "source": [
    "# 36 topics\n",
    "model_list, coherence_values = topic_modeller(cr_texts, start = 36, end = 37, step = 1)"
   ]
  },
  {
   "cell_type": "code",
   "execution_count": 15,
   "metadata": {},
   "outputs": [
    {
     "data": {
      "text/plain": [
       "[(22,\n",
       "  '0.034*\"formal\" + 0.031*\"complaint\" + 0.030*\"credit\" + 0.029*\"reporting\" + 0.027*\"fair\" + 0.026*\"violation\" + 0.026*\"act\" + 0.023*\"request\" + 0.022*\"investigation\" + 0.018*\"equifax\"'),\n",
       " (3,\n",
       "  '0.188*\"balance\" + 0.175*\"date\" + 0.062*\"creditor\" + 0.042*\"closed\" + 0.036*\"status\" + 0.031*\"original\" + 0.026*\"amount\" + 0.026*\"last\" + 0.018*\"negative\" + 0.017*\"potentially\"'),\n",
       " (23,\n",
       "  '0.137*\"loan\" + 0.037*\"student\" + 0.023*\"union\" + 0.022*\"credit\" + 0.017*\"trans\" + 0.017*\"settlement\" + 0.013*\"settled\" + 0.013*\"year\" + 0.012*\"education\" + 0.011*\"child\"'),\n",
       " (24,\n",
       "  '0.127*\"debt\" + 0.084*\"collection\" + 0.027*\"account\" + 0.021*\"agency\" + 0.020*\"sec\" + 0.019*\"company\" + 0.018*\"validation\" + 0.017*\"occur\" + 0.015*\"creditor\" + 0.013*\"validate\"'),\n",
       " (32,\n",
       "  '0.085*\"security\" + 0.081*\"social\" + 0.051*\"report\" + 0.041*\"credit\" + 0.031*\"name\" + 0.030*\"someone\" + 0.029*\"dob\" + 0.028*\"stolen\" + 0.024*\"identity\" + 0.023*\"number\"'),\n",
       " (18,\n",
       "  '0.041*\"credit\" + 0.029*\"payment\" + 0.022*\"loan\" + 0.019*\"bureau\" + 0.018*\"report\" + 0.017*\"mortgage\" + 0.016*\"reporting\" + 0.015*\"reported\" + 0.014*\"auto\" + 0.013*\"company\"'),\n",
       " (16,\n",
       "  '0.345*\"account\" + 0.096*\"opened\" + 0.040*\"fraudulent\" + 0.038*\"number\" + 0.031*\"open\" + 0.028*\"dept\" + 0.024*\"amount\" + 0.018*\"name\" + 0.016*\"credit\" + 0.015*\"please\"'),\n",
       " (14,\n",
       "  '0.379*\"even\" + 0.227*\"personal\" + 0.067*\"accept\" + 0.061*\"document\" + 0.045*\"legal\" + 0.028*\"ever\" + 0.025*\"entity\" + 0.020*\"take\" + 0.017*\"either\" + 0.012*\"otherwise\"'),\n",
       " (9,\n",
       "  '0.065*\"report\" + 0.063*\"ftc\" + 0.056*\"fraud\" + 0.045*\"police\" + 0.043*\"company\" + 0.038*\"fraudulent\" + 0.028*\"contacted\" + 0.024*\"credit\" + 0.021*\"filed\" + 0.019*\"copy\"'),\n",
       " (25,\n",
       "  '0.204*\"data\" + 0.140*\"valid\" + 0.102*\"alleged\" + 0.094*\"detailed\" + 0.064*\"breach\" + 0.037*\"code\" + 0.021*\"validated\" + 0.019*\"every\" + 0.019*\"determined\" + 0.018*\"explanation\"')]"
      ]
     },
     "execution_count": 15,
     "metadata": {},
     "output_type": "execute_result"
    }
   ],
   "source": [
    "crtopics = model_list[0]\n",
    "crtopics.show_topics(formatted=True)"
   ]
  },
  {
   "cell_type": "markdown",
   "metadata": {},
   "source": [
    "# Topics in Mortgages and Loans"
   ]
  },
  {
   "cell_type": "code",
   "execution_count": 16,
   "metadata": {},
   "outputs": [],
   "source": [
    "model_list, coherence_values = topic_modeller(ml_texts, start = 10, end = 50, step = 2)"
   ]
  },
  {
   "cell_type": "code",
   "execution_count": 18,
   "metadata": {},
   "outputs": [
    {
     "data": {
      "image/png": "[encoded data removed]",
      "text/plain": [
       "<Figure size 432x288 with 1 Axes>"
      ]
     },
     "metadata": {
      "needs_background": "light"
     },
     "output_type": "display_data"
    },
    {
     "name": "stdout",
     "output_type": "stream",
     "text": [
      "Num Topics = 10  is having Coherence Value of 0.3677\n",
      "Num Topics = 12  is having Coherence Value of 0.3656\n",
      "Num Topics = 14  is having Coherence Value of 0.3896\n",
      "Num Topics = 16  is having Coherence Value of 0.3902\n",
      "Num Topics = 18  is having Coherence Value of 0.3853\n",
      "Num Topics = 20  is having Coherence Value of 0.3794\n",
      "Num Topics = 22  is having Coherence Value of 0.3851\n",
      "Num Topics = 24  is having Coherence Value of 0.3776\n",
      "Num Topics = 26  is having Coherence Value of 0.3754\n",
      "Num Topics = 28  is having Coherence Value of 0.3743\n",
      "Num Topics = 30  is having Coherence Value of 0.364\n",
      "Num Topics = 32  is having Coherence Value of 0.3645\n",
      "Num Topics = 34  is having Coherence Value of 0.3717\n",
      "Num Topics = 36  is having Coherence Value of 0.3773\n",
      "Num Topics = 38  is having Coherence Value of 0.3797\n",
      "Num Topics = 40  is having Coherence Value of 0.3808\n",
      "Num Topics = 42  is having Coherence Value of 0.3709\n",
      "Num Topics = 44  is having Coherence Value of 0.3604\n",
      "Num Topics = 46  is having Coherence Value of 0.3743\n",
      "Num Topics = 48  is having Coherence Value of 0.383\n"
     ]
    }
   ],
   "source": [
    "coherence_plot(start = 10, end = 50, step = 2, \n",
    "    path = \"/Users/harshvardhan/Documents/UTK/Classes/Spring 2022/BZAN 557 671 Text Mining/Project/Complaints/Plots/coherence-mortgages-and-loans.pdf\")"
   ]
  },
  {
   "cell_type": "code",
   "execution_count": 27,
   "metadata": {},
   "outputs": [],
   "source": [
    "# I will choose thirty topics.\n",
    "model_list, coherence_values = topic_modeller(ml_texts, start = 30, end = 31, step = 1)\n"
   ]
  },
  {
   "cell_type": "code",
   "execution_count": 31,
   "metadata": {},
   "outputs": [
    {
     "data": {
      "text/plain": [
       "[(22,\n",
       "  '0.097*\"credit\" + 0.023*\"loan\" + 0.023*\"score\" + 0.016*\"report\" + 0.011*\"company\" + 0.010*\"income\" + 0.010*\"card\" + 0.009*\"union\" + 0.009*\"inquiry\" + 0.008*\"navy\"'),\n",
       " (15,\n",
       "  '0.075*\"payment\" + 0.026*\"balance\" + 0.025*\"interest\" + 0.021*\"loan\" + 0.020*\"fee\" + 0.019*\"amount\" + 0.018*\"principal\" + 0.017*\"account\" + 0.015*\"paid\" + 0.013*\"bank\"'),\n",
       " (24,\n",
       "  '0.027*\"account\" + 0.016*\"information\" + 0.015*\"loan\" + 0.012*\"debt\" + 0.011*\"violation\" + 0.011*\"consumer\" + 0.011*\"complaint\" + 0.011*\"company\" + 0.010*\"proof\" + 0.010*\"letter\"'),\n",
       " (5,\n",
       "  '0.059*\"u\" + 0.042*\"chase\" + 0.025*\"bank\" + 0.018*\"would\" + 0.015*\"told\" + 0.013*\"flagstar\" + 0.013*\"mortgage\" + 0.011*\"said\" + 0.011*\"call\" + 0.010*\"letter\"'),\n",
       " (1,\n",
       "  '0.060*\"payment\" + 0.052*\"escrow\" + 0.037*\"loan\" + 0.027*\"mortgage\" + 0.022*\"monthly\" + 0.021*\"month\" + 0.019*\"amount\" + 0.014*\"servicing\" + 0.012*\"paid\" + 0.012*\"year\"'),\n",
       " (7,\n",
       "  '0.058*\"insurance\" + 0.027*\"mortgage\" + 0.020*\"escrow\" + 0.018*\"received\" + 0.018*\"policy\" + 0.017*\"company\" + 0.015*\"payment\" + 0.015*\"letter\" + 0.013*\"check\" + 0.013*\"shellpoint\"'),\n",
       " (3,\n",
       "  '0.024*\"sale\" + 0.018*\"house\" + 0.017*\"home\" + 0.011*\"company\" + 0.010*\"get\" + 0.010*\"repair\" + 0.010*\"short\" + 0.009*\"buyer\" + 0.008*\"work\" + 0.007*\"inspection\"'),\n",
       " (18,\n",
       "  '0.054*\"payoff\" + 0.042*\"amount\" + 0.034*\"loan\" + 0.029*\"fee\" + 0.021*\"closing\" + 0.015*\"charge\" + 0.015*\"statement\" + 0.013*\"paid\" + 0.012*\"fund\" + 0.010*\"mortgage\"'),\n",
       " (4,\n",
       "  '0.062*\"loan\" + 0.053*\"rate\" + 0.025*\"appraisal\" + 0.018*\"lender\" + 0.014*\"interest\" + 0.014*\"mortgage\" + 0.013*\"home\" + 0.011*\"would\" + 0.011*\"cost\" + 0.010*\"closing\"'),\n",
       " (2,\n",
       "  '0.068*\"sl\" + 0.023*\"company\" + 0.018*\"usaa\" + 0.017*\"mortgage\" + 0.015*\"specialized\" + 0.014*\"loan\" + 0.009*\"irs\" + 0.009*\"llc\" + 0.008*\"region\" + 0.008*\"garnishment\"')]"
      ]
     },
     "execution_count": 31,
     "metadata": {},
     "output_type": "execute_result"
    }
   ],
   "source": [
    "mltopics = model_list[0]\n",
    "mltopics.show_topics(formatted=True)"
   ]
  },
  {
   "cell_type": "markdown",
   "metadata": {},
   "source": [
    "# Topics in Debt Collection"
   ]
  },
  {
   "cell_type": "code",
   "execution_count": 24,
   "metadata": {},
   "outputs": [],
   "source": [
    "model_list, coherence_values = topic_modeller(dc_texts, start = 10, end = 50, step = 2)"
   ]
  },
  {
   "cell_type": "code",
   "execution_count": 26,
   "metadata": {},
   "outputs": [
    {
     "data": {
      "image/png": "[encoded data removed]",
      "text/plain": [
       "<Figure size 432x288 with 1 Axes>"
      ]
     },
     "metadata": {
      "needs_background": "light"
     },
     "output_type": "display_data"
    },
    {
     "name": "stdout",
     "output_type": "stream",
     "text": [
      "Num Topics = 10  is having Coherence Value of 0.4698\n",
      "Num Topics = 12  is having Coherence Value of 0.4918\n",
      "Num Topics = 14  is having Coherence Value of 0.4731\n",
      "Num Topics = 16  is having Coherence Value of 0.4669\n",
      "Num Topics = 18  is having Coherence Value of 0.4719\n",
      "Num Topics = 20  is having Coherence Value of 0.4615\n",
      "Num Topics = 22  is having Coherence Value of 0.4615\n",
      "Num Topics = 24  is having Coherence Value of 0.4328\n",
      "Num Topics = 26  is having Coherence Value of 0.4759\n",
      "Num Topics = 28  is having Coherence Value of 0.458\n",
      "Num Topics = 30  is having Coherence Value of 0.4622\n",
      "Num Topics = 32  is having Coherence Value of 0.4444\n",
      "Num Topics = 34  is having Coherence Value of 0.4324\n",
      "Num Topics = 36  is having Coherence Value of 0.4447\n",
      "Num Topics = 38  is having Coherence Value of 0.4414\n",
      "Num Topics = 40  is having Coherence Value of 0.4752\n",
      "Num Topics = 42  is having Coherence Value of 0.4223\n",
      "Num Topics = 44  is having Coherence Value of 0.4287\n",
      "Num Topics = 46  is having Coherence Value of 0.4254\n",
      "Num Topics = 48  is having Coherence Value of 0.4392\n"
     ]
    }
   ],
   "source": [
    "coherence_plot(start = 10, end = 50, step = 2, \n",
    "    path = \"/Users/harshvardhan/Documents/UTK/Classes/Spring 2022/BZAN 557 671 Text Mining/Project/Complaints/Plots/coherence-debt-collection.pdf\")"
   ]
  },
  {
   "cell_type": "code",
   "execution_count": 32,
   "metadata": {},
   "outputs": [],
   "source": [
    "# calculate best model again here\n",
    "model_list, coherence_values = topic_modeller(dc_texts, start = 42, end = 43, step = 1)"
   ]
  },
  {
   "cell_type": "code",
   "execution_count": 39,
   "metadata": {},
   "outputs": [
    {
     "data": {
      "text/plain": [
       "[(40,\n",
       "  '0.077*\"pra\" + 0.070*\"debt\" + 0.057*\"system\" + 0.023*\"management\" + 0.021*\"credit\" + 0.018*\"notification\" + 0.017*\"ic\" + 0.015*\"received\" + 0.014*\"resource\" + 0.014*\"complaint\"'),\n",
       " (15,\n",
       "  '0.029*\"court\" + 0.011*\"would\" + 0.011*\"case\" + 0.010*\"time\" + 0.009*\"pay\" + 0.008*\"attorney\" + 0.007*\"debt\" + 0.007*\"legal\" + 0.006*\"work\" + 0.006*\"judgement\"'),\n",
       " (28,\n",
       "  '0.077*\"debt\" + 0.075*\"act\" + 0.062*\"fair\" + 0.037*\"collection\" + 0.029*\"practice\" + 0.023*\"section\" + 0.020*\"reporting\" + 0.016*\"violation\" + 0.014*\"right\" + 0.014*\"federal\"'),\n",
       " (12,\n",
       "  '0.031*\"debt\" + 0.024*\"number\" + 0.016*\"contact\" + 0.013*\"information\" + 0.013*\"phone\" + 0.012*\"social\" + 0.012*\"company\" + 0.012*\"account\" + 0.012*\"name\" + 0.010*\"address\"'),\n",
       " (17,\n",
       "  '0.040*\"credit\" + 0.040*\"bill\" + 0.038*\"insurance\" + 0.036*\"collection\" + 0.019*\"service\" + 0.017*\"report\" + 0.014*\"agency\" + 0.012*\"company\" + 0.012*\"billing\" + 0.012*\"medical\"'),\n",
       " (31,\n",
       "  '0.033*\"payment\" + 0.030*\"attorney\" + 0.022*\"child\" + 0.016*\"made\" + 0.015*\"check\" + 0.014*\"debt\" + 0.013*\"payoff\" + 0.012*\"money\" + 0.012*\"docket\" + 0.011*\"cashed\"'),\n",
       " (11,\n",
       "  '0.083*\"property\" + 0.054*\"bankruptcy\" + 0.047*\"fargo\" + 0.046*\"well\" + 0.030*\"discharged\" + 0.025*\"mortgage\" + 0.025*\"phh\" + 0.021*\"sl\" + 0.017*\"foreclosure\" + 0.016*\"year\"'),\n",
       " (39,\n",
       "  '0.021*\"said\" + 0.021*\"told\" + 0.019*\"never\" + 0.019*\"get\" + 0.015*\"bill\" + 0.015*\"called\" + 0.013*\"would\" + 0.013*\"paid\" + 0.012*\"back\" + 0.012*\"money\"'),\n",
       " (26,\n",
       "  '0.085*\"debt\" + 0.066*\"collection\" + 0.054*\"credit\" + 0.033*\"company\" + 0.032*\"report\" + 0.026*\"agency\" + 0.023*\"never\" + 0.023*\"collect\" + 0.021*\"account\" + 0.021*\"owe\"'),\n",
       " (6,\n",
       "  '0.061*\"payment\" + 0.024*\"amount\" + 0.021*\"account\" + 0.019*\"balance\" + 0.018*\"fee\" + 0.016*\"would\" + 0.014*\"due\" + 0.013*\"made\" + 0.013*\"pay\" + 0.011*\"interest\"')]"
      ]
     },
     "execution_count": 39,
     "metadata": {},
     "output_type": "execute_result"
    }
   ],
   "source": [
    "dctopics = model_list[0]\n",
    "dctopics.show_topics(formatted=True)"
   ]
  }
 ],
 "metadata": {
  "interpreter": {
   "hash": "f9f9a4bd8dc2e315721bc0f481f0f91f77bc507b61426236d2cee989b171ce4e"
  },
  "kernelspec": {
   "display_name": "Python 3.9.7 ('base')",
   "language": "python",
   "name": "python3"
  },
  "language_info": {
   "codemirror_mode": {
    "name": "ipython",
    "version": 3
   },
   "file_extension": ".py",
   "mimetype": "text/x-python",
   "name": "python",
   "nbconvert_exporter": "python",
   "pygments_lexer": "ipython3",
   "version": "3.9.7"
  },
  "orig_nbformat": 4
 },
 "nbformat": 4,
 "nbformat_minor": 2
}
